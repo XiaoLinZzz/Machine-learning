{
 "cells": [
  {
   "cell_type": "code",
   "execution_count": 1,
   "metadata": {},
   "outputs": [],
   "source": [
    "import glob, os\n",
    "import re"
   ]
  },
  {
   "cell_type": "code",
   "execution_count": 2,
   "metadata": {
    "scrolled": false
   },
   "outputs": [],
   "source": [
    "glob_list = []\n",
    "\n",
    "#loop through subject folders and glob\n",
    "for subject in range(25):\n",
    "    glob_list.append(glob.glob(str(subject) + \"\\\\[0-9]*.csv\"))\n",
    "    \n",
    "#function to flatten glob\n",
    "flatten = lambda l: [item for sublist in l for item in sublist]\n",
    "glob_list = flatten(glob_list)"
   ]
  },
  {
   "cell_type": "code",
   "execution_count": 3,
   "metadata": {},
   "outputs": [],
   "source": [
    "#make a list of tuples of hand pairings\n",
    "lr_pairs = list(zip(*[iter(glob_list)]*2))"
   ]
  },
  {
   "cell_type": "code",
   "execution_count": 4,
   "metadata": {},
   "outputs": [],
   "source": [
    "import pandas as pd\n",
    "\n",
    "df_list = []\n",
    "\n",
    "for pair in lr_pairs:\n",
    "    df_left = pd.read_csv(pair[0], index_col=None).drop(['Unnamed: 0'], axis = 1)\n",
    "    df_right = pd.read_csv(pair[1], index_col=None).drop(['Unnamed: 0'], axis = 1)\n",
    "    \n",
    "    #rename columns\n",
    "    df_left = df_left.add_prefix('left')\n",
    "    df_right = df_right.add_prefix('right')\n",
    "    \n",
    "    #merge\n",
    "    df = pd.merge(df_left, df_right, left_on='leftTime', right_on='rightTime').drop('rightTime', axis = 1)\n",
    "\n",
    "    #covert fist column to time object\n",
    "    df['leftTime'] = pd.to_datetime(df['leftTime'].str[:-3], format = '%H:%M:%S.%f')\n",
    "    \n",
    "    #difference between rows\n",
    "    df = df.diff().iloc[1:]\n",
    "    df['leftTime'] = df['leftTime'].dt.total_seconds()\n",
    "    \n",
    "    #add sign and subject using regex of file name\n",
    "    subject_sign = re.split(r'\\\\', re.findall('^[^_]+(?=_)', pair[0])[0])\n",
    "    df.insert(loc = 0, column = 'Subject', value = subject_sign[0])\n",
    "    df.insert(loc = 0, column = 'Sign', value = subject_sign[1])\n",
    "\n",
    "    \n",
    "    df_list.append(df)"
   ]
  },
  {
   "cell_type": "code",
   "execution_count": 5,
   "metadata": {},
   "outputs": [],
   "source": [
    "sign_frame = pd.concat(df_list, axis=0, ignore_index=False)"
   ]
  },
  {
   "cell_type": "code",
   "execution_count": 6,
   "metadata": {},
   "outputs": [],
   "source": [
    "mean_df = pd.DataFrame(dtype=float)\n",
    "sign_list = []\n",
    "for i in range(len(df_list)):\n",
    "    label = df_list[i]['Sign'].iloc[0] +'-'+ df_list[i]['Subject'].iloc[0]\n",
    "    sign_list.append(df_list[i]['Sign'].iloc[0])\n",
    "    mean_df[label] = df_list[i].drop(columns=['Sign', 'Subject']).mean()"
   ]
  },
  {
   "cell_type": "code",
   "execution_count": 7,
   "metadata": {},
   "outputs": [],
   "source": [
    "from sklearn.preprocessing import StandardScaler\n",
    "mean_dfT = mean_df.T\n",
    "Y = sign_list\n",
    "X = mean_dfT.to_numpy()\n",
    "\n",
    "# Scale data\n",
    "scaler = StandardScaler()\n",
    "scaler.fit(X)\n",
    "X=scaler.transform(X)"
   ]
  },
  {
   "cell_type": "code",
   "execution_count": 8,
   "metadata": {},
   "outputs": [],
   "source": [
    "# Split into train and test set\n",
    "split_1 = int(0.84 * len(Y))\n",
    "X_train = X[:split_1]\n",
    "Y_train = Y[:split_1]\n",
    "X_test = X[split_1:]\n",
    "Y_test = Y[split_1:]"
   ]
  },
  {
   "cell_type": "code",
   "execution_count": 9,
   "metadata": {},
   "outputs": [
    {
     "name": "stderr",
     "output_type": "stream",
     "text": [
      "C:\\ProgramData\\Anaconda2\\envs\\py36\\lib\\site-packages\\sklearn\\discriminant_analysis.py:388: UserWarning: Variables are collinear.\n",
      "  warnings.warn(\"Variables are collinear.\")\n"
     ]
    },
    {
     "data": {
      "text/plain": [
       "0.25"
      ]
     },
     "execution_count": 9,
     "metadata": {},
     "output_type": "execute_result"
    }
   ],
   "source": [
    "# LDA on means - 25% accuracy\n",
    "import numpy as np\n",
    "from sklearn.discriminant_analysis import LinearDiscriminantAnalysis\n",
    "clf = LinearDiscriminantAnalysis()\n",
    "clf.fit(X_train, Y_train)\n",
    "#clf.scalings_\n",
    "clf.score(X_test,Y_test)\n",
    "# use .scalings_ to get LDA eigenvector equivalents"
   ]
  },
  {
   "cell_type": "code",
   "execution_count": 10,
   "metadata": {},
   "outputs": [
    {
     "name": "stderr",
     "output_type": "stream",
     "text": [
      "C:\\ProgramData\\Anaconda2\\envs\\py36\\lib\\site-packages\\sklearn\\discriminant_analysis.py:388: UserWarning: Variables are collinear.\n",
      "  warnings.warn(\"Variables are collinear.\")\n"
     ]
    },
    {
     "data": {
      "text/plain": [
       "0.3409090909090909"
      ]
     },
     "execution_count": 10,
     "metadata": {},
     "output_type": "execute_result"
    }
   ],
   "source": [
    "# Accuracy increases to 34% when left hand is excluded\n",
    "X_right = mean_dfT.iloc[:,83:]\n",
    "scaler1 = StandardScaler()\n",
    "scaler1.fit(X_right)\n",
    "X_right=scaler1.transform(X_right)\n",
    "# Split into train and test set\n",
    "X_train_r = X_right[:split_1]\n",
    "X_test_r = X_right[split_1:]\n",
    "clf_r = LinearDiscriminantAnalysis()\n",
    "clf_r.fit(X_train_r, Y_train)\n",
    "#clf.scalings_\n",
    "clf_r.score(X_test_r,Y_test)"
   ]
  },
  {
   "cell_type": "code",
   "execution_count": 11,
   "metadata": {},
   "outputs": [],
   "source": [
    "std_df = pd.DataFrame(dtype=float)\n",
    "for i in range(len(df_list)):\n",
    "    label = df_list[i]['Sign'].iloc[0] +'-'+ df_list[i]['Subject'].iloc[0]\n",
    "    std_df[label] = df_list[i].drop(columns=['Sign', 'Subject']).std()"
   ]
  },
  {
   "cell_type": "code",
   "execution_count": 12,
   "metadata": {},
   "outputs": [
    {
     "name": "stderr",
     "output_type": "stream",
     "text": [
      "C:\\ProgramData\\Anaconda2\\envs\\py36\\lib\\site-packages\\sklearn\\discriminant_analysis.py:388: UserWarning: Variables are collinear.\n",
      "  warnings.warn(\"Variables are collinear.\")\n"
     ]
    },
    {
     "data": {
      "text/plain": [
       "0.5"
      ]
     },
     "execution_count": 12,
     "metadata": {},
     "output_type": "execute_result"
    }
   ],
   "source": [
    "# 50% accuracy when std and mean are included\n",
    "std_dfT = std_df.T\n",
    "std_mean_df = mean_dfT.join(std_dfT, lsuffix='mean', rsuffix='std')\n",
    "scaler1.fit(std_mean_df)\n",
    "X_std_mean = scaler1.transform(std_mean_df)\n",
    "X_std_mean_train = X_std_mean[:split_1]\n",
    "X_std_mean_test = X_std_mean[split_1:]\n",
    "clf_std_mean = LinearDiscriminantAnalysis()\n",
    "clf_std_mean.fit(X_std_mean_train,Y_train)\n",
    "clf_std_mean.score(X_std_mean_test,Y_test)"
   ]
  },
  {
   "cell_type": "code",
   "execution_count": 13,
   "metadata": {},
   "outputs": [
    {
     "name": "stderr",
     "output_type": "stream",
     "text": [
      "C:\\ProgramData\\Anaconda2\\envs\\py36\\lib\\site-packages\\sklearn\\discriminant_analysis.py:388: UserWarning: Variables are collinear.\n",
      "  warnings.warn(\"Variables are collinear.\")\n"
     ]
    },
    {
     "data": {
      "text/plain": [
       "0.8181818181818182"
      ]
     },
     "execution_count": 13,
     "metadata": {},
     "output_type": "execute_result"
    }
   ],
   "source": [
    "# 81% using mean and std when left hand is ignored\n",
    "std_mean_df = mean_dfT.iloc[:,83:].join(std_dfT.iloc[:,83:], lsuffix='mean', rsuffix='std')\n",
    "scaler1.fit(std_mean_df)\n",
    "X_std_mean = scaler1.transform(std_mean_df)\n",
    "X_std_mean_train = X_std_mean[:split_1]\n",
    "X_std_mean_test = X_std_mean[split_1:]\n",
    "clf_std_mean = LinearDiscriminantAnalysis()\n",
    "clf_std_mean.fit(X_std_mean_train,Y_train)\n",
    "clf_std_mean.score(X_std_mean_test,Y_test)"
   ]
  }
 ],
 "metadata": {
  "kernelspec": {
   "display_name": "Python 3",
   "language": "python",
   "name": "python3"
  },
  "language_info": {
   "codemirror_mode": {
    "name": "ipython",
    "version": 3
   },
   "file_extension": ".py",
   "mimetype": "text/x-python",
   "name": "python",
   "nbconvert_exporter": "python",
   "pygments_lexer": "ipython3",
   "version": "3.6.8"
  }
 },
 "nbformat": 4,
 "nbformat_minor": 2
}
