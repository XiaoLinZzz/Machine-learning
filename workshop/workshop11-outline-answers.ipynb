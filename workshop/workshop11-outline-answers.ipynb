{
 "cells": [
  {
   "cell_type": "markdown",
   "metadata": {},
   "source": [
    "# Workshop 11\n",
    "\n",
    "This is a summary of what you need to do statistical testing of results."
   ]
  },
  {
   "cell_type": "code",
   "execution_count": null,
   "metadata": {},
   "outputs": [],
   "source": [
    "from mlxtend.evaluate import permutation_test   # pip install mlxtend\n",
    "from statsmodels.stats.multitest import fdrcorrection\n",
    "\n",
    "# run the following for any pairs of methods that you want to test (in assignment 3 it is just one pair)\n",
    "p_value = permutation_test(method1_val_pred, method2_val_pred, paired=True,\n",
    "                           func=lambda x, y: np.abs(f1_score(y_val,x) - f1_score(y_val,y)),   # you can change f1_score to whatever you want\n",
    "                           method=\"approximate\", seed=0, num_rounds=1000)\n",
    "# accumulate the set of results (in a list like this or in any other convenient structure of your choice)\n",
    "pvals += [ p_value ]\n",
    "\n",
    "if [ len(pvals)>1 ]:\n",
    "    hyptest, pcorr = fdrcorrection(pvals, method='p')\n",
    "else\n",
    "    pcorr = pvals[0]   # no correction needed for a single test\n",
    "    \n",
    "# Can look at each corrected p-value and compare to 0.05 (below means statistically significant)\n",
    "# or can look at the whole set together like this ...\n",
    "if np.min(pcorr)<0.05:\n",
    "    print(\"Statistically significant difference detected\")\n",
    "else\n",
    "    print(\"Differences are not significant statistically\")  \n",
    "    \n",
    "# Note that an outcome of \"not significant statistically\" this does not mean there is no difference, \n",
    "#  as there may be a true difference but the data is too small for the statistical test to be confident about it"
   ]
  }
 ],
 "metadata": {
  "kernelspec": {
   "display_name": "Python 3 (ipykernel)",
   "language": "python",
   "name": "python3"
  },
  "language_info": {
   "codemirror_mode": {
    "name": "ipython",
    "version": 3
   },
   "file_extension": ".py",
   "mimetype": "text/x-python",
   "name": "python",
   "nbconvert_exporter": "python",
   "pygments_lexer": "ipython3",
   "version": "3.9.7"
  }
 },
 "nbformat": 4,
 "nbformat_minor": 4
}
